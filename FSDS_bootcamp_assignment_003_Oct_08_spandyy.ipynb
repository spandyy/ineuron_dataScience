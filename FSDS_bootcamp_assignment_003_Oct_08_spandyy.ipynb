{
 "cells": [
  {
   "cell_type": "markdown",
   "metadata": {
    "id": "cyOfbWCdOjEr"
   },
   "source": [
    "# ASSIGNMENTS - Compulsory\n",
    "## Send it before 0000 hrs IST or 12 AM Wednesday\n",
    "\n",
    "## NOTE: Evaluation will be done before next class.\n",
    "\n",
    "## HOW TO SUBMIT: -\n",
    "Download this notebook, Solve it and upload in the google form given in the mail."
   ]
  },
  {
   "cell_type": "markdown",
   "metadata": {
    "id": "GT4IytkJMNa-"
   },
   "source": [
    "## Python String Manipulation\n",
    "\n",
    "1. Count the number of times `iNeuron` appears in the string.\n",
    "```python\n",
    "text = \"Welcome to iNeuron, You are a part of FSDS Bootcamp 2 in iNeuron. I hope you are enjoying the course by iNeuron\"\n",
    "```\n",
    "2. Check if position `5` to `11` ends with the phrase `iNeuron.` in the string \n",
    "```python\n",
    "txt = \"Hello, welcome to FSDS 2.0 at iNeuron.\"\n",
    "```\n",
    "3. Write a program that takes your full name as input and displays the abbreviations of the first and middle names except the last name which is displayed as it is. For example, if your name is Sunny Bhaveen Chandra, then the output should be S.B.Chandra.\n",
    "\n",
    "4. Join all items in a list into a string, using a hash(`#`) character as separator:\n",
    "```python\n",
    "LIST = [\"My\", \"name\", \"is\", \"Rishav\", \"Dash\"]\n",
    "```\n",
    "5. Write example for the following string manipulation function,\n",
    "\n",
    "  ```\n",
    "  - isdecimal()\n",
    "  - islower()\n",
    "  - isupper()\n",
    "  - isalpha()\n",
    "  - isnumeric()\n",
    "\n",
    "  ```\n",
    "6. Indian PAN card format follows the following formats - \n",
    "    - `AYEPC7894X`\n",
    "    - `ABCDE9999Y`\n",
    "  Take user input for PAN_CARD and validate as per the above example.\n"
   ]
  },
  {
   "cell_type": "code",
   "execution_count": 1,
   "metadata": {
    "id": "KwVni9gipNi-"
   },
   "outputs": [
    {
     "name": "stdout",
     "output_type": "stream",
     "text": [
      "iNeuron appears 3 times in the string\n"
     ]
    }
   ],
   "source": [
    "text = \"Welcome to iNeuron, You are a part of FSDS Bootcamp 2 in iNeuron. I hope you are enjoying the course by iNeuron\"\n",
    "a=text.count(\"iNeuron\")\n",
    "print(f\"iNeuron appears {a} times in the string\")"
   ]
  },
  {
   "cell_type": "code",
   "execution_count": 2,
   "metadata": {},
   "outputs": [
    {
     "name": "stdout",
     "output_type": "stream",
     "text": [
      "False\n"
     ]
    }
   ],
   "source": [
    "txt = \"Hello, welcome to FSDS 2.0 at iNeuron.\"\n",
    "x=txt[5:11]\n",
    "if x==\"iNeuron\":\n",
    "    print(\"True\")\n",
    "    \n",
    "else:\n",
    "    print(\"False\")"
   ]
  },
  {
   "cell_type": "code",
   "execution_count": 3,
   "metadata": {},
   "outputs": [],
   "source": [
    "z= \"leone\""
   ]
  },
  {
   "cell_type": "code",
   "execution_count": 4,
   "metadata": {},
   "outputs": [
    {
     "data": {
      "text/plain": [
       "False"
      ]
     },
     "execution_count": 4,
     "metadata": {},
     "output_type": "execute_result"
    }
   ],
   "source": [
    "z.isdecimal()"
   ]
  },
  {
   "cell_type": "code",
   "execution_count": 5,
   "metadata": {},
   "outputs": [
    {
     "data": {
      "text/plain": [
       "True"
      ]
     },
     "execution_count": 5,
     "metadata": {},
     "output_type": "execute_result"
    }
   ],
   "source": [
    "z.islower()"
   ]
  },
  {
   "cell_type": "code",
   "execution_count": 6,
   "metadata": {},
   "outputs": [
    {
     "data": {
      "text/plain": [
       "False"
      ]
     },
     "execution_count": 6,
     "metadata": {},
     "output_type": "execute_result"
    }
   ],
   "source": [
    "z.isupper()"
   ]
  },
  {
   "cell_type": "code",
   "execution_count": 7,
   "metadata": {},
   "outputs": [
    {
     "data": {
      "text/plain": [
       "True"
      ]
     },
     "execution_count": 7,
     "metadata": {},
     "output_type": "execute_result"
    }
   ],
   "source": [
    "z.isalpha()"
   ]
  },
  {
   "cell_type": "code",
   "execution_count": 8,
   "metadata": {},
   "outputs": [
    {
     "data": {
      "text/plain": [
       "False"
      ]
     },
     "execution_count": 8,
     "metadata": {},
     "output_type": "execute_result"
    }
   ],
   "source": [
    "z.isnumeric()"
   ]
  },
  {
   "cell_type": "code",
   "execution_count": 9,
   "metadata": {},
   "outputs": [
    {
     "data": {
      "text/plain": [
       "'My#name#is#Rishav#Dash'"
      ]
     },
     "execution_count": 9,
     "metadata": {},
     "output_type": "execute_result"
    }
   ],
   "source": [
    "LIST = [\"My\", \"name\", \"is\", \"Rishav\", \"Dash\"]\n",
    "\"#\".join(LIST)"
   ]
  },
  {
   "cell_type": "code",
   "execution_count": 10,
   "metadata": {},
   "outputs": [
    {
     "name": "stdout",
     "output_type": "stream",
     "text": [
      "Enter your name: Spandan Prasad Dhadse\n",
      "S.P. Dhadse\n"
     ]
    }
   ],
   "source": [
    "name = input(\"Enter your name: \")\n",
    "a,b,c=name.split()\n",
    "print(f\"{a[0]}.{b[0]}. {c}\")"
   ]
  },
  {
   "cell_type": "code",
   "execution_count": 14,
   "metadata": {},
   "outputs": [
    {
     "name": "stdout",
     "output_type": "stream",
     "text": [
      "Enter your PAN_NO: GUCPD2774J\n",
      "Valid\n"
     ]
    }
   ],
   "source": [
    "# GUCPD2774J\n",
    "name = input(\"Enter your PAN_NO: \")\n",
    "if name[0:5].isupper() and name[9].isupper() and name[5:8].isdigit() and len(name)==10:\n",
    "    print(\"Valid\")\n",
    "else:\n",
    "    print(\"Invalid\")"
   ]
  }
 ],
 "metadata": {
  "colab": {
   "collapsed_sections": [],
   "provenance": []
  },
  "kernelspec": {
   "display_name": "Python 3",
   "language": "python",
   "name": "python3"
  },
  "language_info": {
   "codemirror_mode": {
    "name": "ipython",
    "version": 3
   },
   "file_extension": ".py",
   "mimetype": "text/x-python",
   "name": "python",
   "nbconvert_exporter": "python",
   "pygments_lexer": "ipython3",
   "version": "3.8.5"
  }
 },
 "nbformat": 4,
 "nbformat_minor": 1
}
