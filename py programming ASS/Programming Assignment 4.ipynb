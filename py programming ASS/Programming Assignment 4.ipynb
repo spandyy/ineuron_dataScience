{
 "cells": [
  {
   "cell_type": "markdown",
   "metadata": {},
   "source": [
    "1. Write a Python Program to Find the Factorial of a Number?\n",
    "2. Write a Python Program to Display the multiplication Table?\n",
    "3. Write a Python Program to Print the Fibonacci sequence?\n",
    "4. Write a Python Program to Check Armstrong Number?\n",
    "5. Write a Python Program to Find Armstrong Number in an Interval?\n",
    "6. Write a Python Program to Find the Sum of Natural Numbers?"
   ]
  },
  {
   "cell_type": "code",
   "execution_count": 6,
   "metadata": {},
   "outputs": [
    {
     "name": "stdout",
     "output_type": "stream",
     "text": [
      "Enter the no.: 5\n",
      "Factorial of the no is,  120\n"
     ]
    }
   ],
   "source": [
    "num = int(input(\"Enter the no.: \"))\n",
    "n=1\n",
    "for i in range(1, num+1):\n",
    "    n = n * i\n",
    "print(\"Factorial of the no is, \", n)\n",
    "   "
   ]
  },
  {
   "cell_type": "code",
   "execution_count": 15,
   "metadata": {},
   "outputs": [
    {
     "name": "stdout",
     "output_type": "stream",
     "text": [
      "Enter the no.: 5\n",
      "5\n",
      "10\n",
      "15\n",
      "20\n",
      "25\n",
      "30\n",
      "35\n",
      "40\n",
      "45\n",
      "50\n"
     ]
    }
   ],
   "source": [
    "num = int(input(\"Enter the no.: \"))\n",
    "\n",
    "for i in range(1,11):\n",
    "    i=i*num\n",
    "    print(i)\n",
    "    "
   ]
  },
  {
   "cell_type": "code",
   "execution_count": 20,
   "metadata": {},
   "outputs": [
    {
     "name": "stdout",
     "output_type": "stream",
     "text": [
      "Enter the no.: 12\n",
      "1\n",
      "2\n",
      "3\n",
      "5\n",
      "8\n",
      "13\n",
      "21\n",
      "34\n",
      "55\n",
      "89\n",
      "144\n"
     ]
    }
   ],
   "source": [
    "n1=0\n",
    "n2=1\n",
    "num = int(input(\"Enter the no.: \"))\n",
    "for i in  range(2,num+1):\n",
    "    sum=n1+n2\n",
    "    print(sum)\n",
    "    n1=n2\n",
    "    n2=sum"
   ]
  },
  {
   "cell_type": "code",
   "execution_count": 29,
   "metadata": {},
   "outputs": [
    {
     "name": "stdout",
     "output_type": "stream",
     "text": [
      "Enter the no.: 153\n",
      "Arm\n"
     ]
    }
   ],
   "source": [
    "num = int(input(\"Enter the no.: \"))\n",
    "sum=0\n",
    "z=len(str(num))\n",
    "c=num\n",
    "while num>0:\n",
    "    r=num%10\n",
    "    sum=sum+(r**z)\n",
    "    num=num//10\n",
    "\n",
    "if sum==c:\n",
    "    print(\"Arm\")\n",
    "\n",
    "else:\n",
    "    print(\"not Arm\")\n",
    "    \n",
    "\n"
   ]
  },
  {
   "cell_type": "code",
   "execution_count": 27,
   "metadata": {},
   "outputs": [
    {
     "data": {
      "text/plain": [
       "11"
      ]
     },
     "execution_count": 27,
     "metadata": {},
     "output_type": "execute_result"
    }
   ],
   "source": []
  },
  {
   "cell_type": "code",
   "execution_count": null,
   "metadata": {},
   "outputs": [],
   "source": []
  }
 ],
 "metadata": {
  "kernelspec": {
   "display_name": "Python 3",
   "language": "python",
   "name": "python3"
  },
  "language_info": {
   "codemirror_mode": {
    "name": "ipython",
    "version": 3
   },
   "file_extension": ".py",
   "mimetype": "text/x-python",
   "name": "python",
   "nbconvert_exporter": "python",
   "pygments_lexer": "ipython3",
   "version": "3.8.5"
  }
 },
 "nbformat": 4,
 "nbformat_minor": 4
}
