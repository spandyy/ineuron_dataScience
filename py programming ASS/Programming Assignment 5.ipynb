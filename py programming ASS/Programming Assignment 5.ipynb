{
 "cells": [
  {
   "cell_type": "code",
   "execution_count": 1,
   "metadata": {},
   "outputs": [
    {
     "name": "stdout",
     "output_type": "stream",
     "text": [
      "Object `LCM` not found.\n",
      "Object `HCF` not found.\n",
      "Object `Hexadecimal` not found.\n",
      "Object `character` not found.\n",
      "Object `operations` not found.\n"
     ]
    }
   ],
   "source": [
    "1. Write a Python Program to Find LCM?\n",
    "2. Write a Python Program to Find HCF?\n",
    "3. Write a Python Program to Convert Decimal to Binary, Octal and Hexadecimal?\n",
    "4. Write a Python Program To Find ASCII value of a character?\n",
    "5. Write a Python Program to Make a Simple Calculator with 4 basic mathematical operations?"
   ]
  },
  {
   "cell_type": "code",
   "execution_count": 2,
   "metadata": {},
   "outputs": [
    {
     "name": "stdout",
     "output_type": "stream",
     "text": [
      "NO1: 30\n",
      "NO2: 60\n"
     ]
    },
    {
     "data": {
      "text/plain": [
       "60"
      ]
     },
     "execution_count": 2,
     "metadata": {},
     "output_type": "execute_result"
    }
   ],
   "source": [
    "a= int(input(\"NO1: \"))\n",
    "b= int(input(\"NO2: \"))\n",
    "def lcm(a,b):\n",
    "    \n",
    "    if a>b:\n",
    "        gre=a\n",
    "    else:\n",
    "        gre=b\n",
    "\n",
    "\n",
    "    while(True):\n",
    "        if (gre%a==0) and (gre%b==0):\n",
    "            lcm=gre\n",
    "            break\n",
    "        gre+=1\n",
    "\n",
    "    return lcm\n",
    "\n",
    "lcm(a,b)"
   ]
  },
  {
   "cell_type": "code",
   "execution_count": 7,
   "metadata": {},
   "outputs": [
    {
     "name": "stdout",
     "output_type": "stream",
     "text": [
      "NO1: 24\n",
      "NO2: 14\n"
     ]
    },
    {
     "data": {
      "text/plain": [
       "2"
      ]
     },
     "execution_count": 7,
     "metadata": {},
     "output_type": "execute_result"
    }
   ],
   "source": [
    "a= int(input(\"NO1: \"))\n",
    "b= int(input(\"NO2: \"))\n",
    "def lcm(a,b):\n",
    "    \n",
    "    if a>b:\n",
    "        sma=b\n",
    "    else:\n",
    "        sma=a\n",
    "\n",
    "\n",
    "    for i in range(1, sma+1):\n",
    "        if (a%i==0) and (b%i==0):\n",
    "            hcf=i\n",
    "\n",
    "    return hcf\n",
    "\n",
    "lcm(a,b)"
   ]
  },
  {
   "cell_type": "code",
   "execution_count": null,
   "metadata": {},
   "outputs": [],
   "source": []
  },
  {
   "cell_type": "code",
   "execution_count": null,
   "metadata": {},
   "outputs": [],
   "source": []
  },
  {
   "cell_type": "code",
   "execution_count": null,
   "metadata": {},
   "outputs": [],
   "source": []
  }
 ],
 "metadata": {
  "kernelspec": {
   "display_name": "Python 3",
   "language": "python",
   "name": "python3"
  },
  "language_info": {
   "codemirror_mode": {
    "name": "ipython",
    "version": 3
   },
   "file_extension": ".py",
   "mimetype": "text/x-python",
   "name": "python",
   "nbconvert_exporter": "python",
   "pygments_lexer": "ipython3",
   "version": "3.8.5"
  }
 },
 "nbformat": 4,
 "nbformat_minor": 4
}
