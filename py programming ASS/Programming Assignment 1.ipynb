{
 "cells": [
  {
   "cell_type": "markdown",
   "metadata": {},
   "source": [
    "1. Write a Python program to print &quot;Hello Python&quot;?\n",
    "2. Write a Python program to do arithmetical operations addition and division.?\n",
    "3. Write a Python program to find the area of a triangle?\n",
    "4. Write a Python program to swap two variables?\n",
    "5. Write a Python program to generate a random number?"
   ]
  },
  {
   "cell_type": "code",
   "execution_count": 1,
   "metadata": {},
   "outputs": [
    {
     "name": "stdout",
     "output_type": "stream",
     "text": [
      "Hello Python\n"
     ]
    }
   ],
   "source": [
    "print(\"Hello Python\")"
   ]
  },
  {
   "cell_type": "code",
   "execution_count": 4,
   "metadata": {},
   "outputs": [
    {
     "name": "stdout",
     "output_type": "stream",
     "text": [
      "Enter 1st no.: 12\n",
      "Enter 2st no.: 6\n",
      "Addition is 18.0 \n",
      "Division is 2.0 \n"
     ]
    }
   ],
   "source": [
    "a = float(input(\"Enter 1st no.: \"))\n",
    "b = float(input(\"Enter 2st no.: \"))\n",
    "Addition=a+b\n",
    "Division=a/b\n",
    "print(f\"Addition is {Addition} \")\n",
    "print(f\"Division is {Division} \")"
   ]
  },
  {
   "cell_type": "code",
   "execution_count": 6,
   "metadata": {},
   "outputs": [
    {
     "name": "stdout",
     "output_type": "stream",
     "text": [
      "Enter Height.: 4\n",
      "Enter Base: 2\n",
      "Area of Triangle is 4.0 units\n"
     ]
    }
   ],
   "source": [
    "h = float(input(\"Enter Height.: \"))\n",
    "b = float(input(\"Enter Base: \"))\n",
    "Area=0.5*b*h\n",
    "print(f\"Area of Triangle is {Area} units\")"
   ]
  },
  {
   "cell_type": "code",
   "execution_count": 8,
   "metadata": {},
   "outputs": [
    {
     "name": "stdout",
     "output_type": "stream",
     "text": [
      "Swapped num1:  2\n",
      "Swapped num2:  1\n"
     ]
    }
   ],
   "source": [
    "num1=1\n",
    "num2=2\n",
    "\n",
    "temp=num1#1\n",
    "num1=num2#2\n",
    "num2=temp#1\n",
    "\n",
    "print(\"Swapped num1: \", num1)\n",
    "print(\"Swapped num2: \", num2)"
   ]
  },
  {
   "cell_type": "code",
   "execution_count": 1,
   "metadata": {},
   "outputs": [
    {
     "name": "stdout",
     "output_type": "stream",
     "text": [
      "5\n"
     ]
    }
   ],
   "source": [
    "import random\n",
    "print(random.randint(1,10))"
   ]
  }
 ],
 "metadata": {
  "kernelspec": {
   "display_name": "Python 3",
   "language": "python",
   "name": "python3"
  },
  "language_info": {
   "codemirror_mode": {
    "name": "ipython",
    "version": 3
   },
   "file_extension": ".py",
   "mimetype": "text/x-python",
   "name": "python",
   "nbconvert_exporter": "python",
   "pygments_lexer": "ipython3",
   "version": "3.8.5"
  }
 },
 "nbformat": 4,
 "nbformat_minor": 4
}
