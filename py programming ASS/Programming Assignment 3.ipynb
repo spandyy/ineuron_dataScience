{
 "cells": [
  {
   "cell_type": "markdown",
   "metadata": {},
   "source": [
    "1. Write a Python Program to Check if a Number is Positive, Negative or Zero? \n",
    "2. Write a Python Program to Check if a Number is Odd or Even? \n",
    "3. Write a Python Program to Check Leap Year? \n",
    "4. Write a Python Program to Check Prime Number? \n",
    "5. Write a Python Program to Print all Prime Numbers in an Interval of 1-10000?"
   ]
  },
  {
   "cell_type": "code",
   "execution_count": 6,
   "metadata": {},
   "outputs": [
    {
     "name": "stdout",
     "output_type": "stream",
     "text": [
      "Enter the no.: 0\n",
      "Number is Zero\n"
     ]
    }
   ],
   "source": [
    "num=int(input(\"Enter the no.: \"))\n",
    "if num < 0:\n",
    "    print(\"Number is Negative\")\n",
    "elif num > 0:\n",
    "    print(\"Number is Positive\")\n",
    "else:\n",
    "    print(\"Number is Zero\")\n"
   ]
  },
  {
   "cell_type": "code",
   "execution_count": 7,
   "metadata": {},
   "outputs": [
    {
     "name": "stdout",
     "output_type": "stream",
     "text": [
      "Enter the no.: 232\n",
      "Number is Even\n"
     ]
    }
   ],
   "source": [
    "num=int(input(\"Enter the no.: \"))\n",
    "if (num % 2) == 0:\n",
    "    print(\"Number is Even\")\n",
    "\n",
    "else:\n",
    "    print(\"Number is odd\")"
   ]
  },
  {
   "cell_type": "code",
   "execution_count": 12,
   "metadata": {},
   "outputs": [
    {
     "name": "stdout",
     "output_type": "stream",
     "text": [
      "Enter the year: 2008\n",
      "leap year\n"
     ]
    }
   ],
   "source": [
    "year=int(input(\"Enter the year: \"))\n",
    "if year % 400==0:\n",
    "    print(\"leap year\")\n",
    "    \n",
    "elif year%4==0 and year%100!=0:\n",
    "    print(\"leap year\")\n",
    "        \n",
    "else:\n",
    "    print(\"Not a leap year\")"
   ]
  },
  {
   "cell_type": "code",
   "execution_count": 16,
   "metadata": {},
   "outputs": [
    {
     "name": "stdout",
     "output_type": "stream",
     "text": [
      "Enter the no.: 37\n",
      "prime 37\n"
     ]
    }
   ],
   "source": [
    "num=int(input(\"Enter the no.: \"))\n",
    "count=0\n",
    "if num>1:\n",
    "    for i in range(1,num+1):\n",
    "        if (num%i)==0:\n",
    "            count+=1\n",
    "    if count==2:\n",
    "        print('prime', num)\n",
    "    else:\n",
    "        print(\"not prime\", num)\n",
    "else:\n",
    "    print(\"no invalid\")"
   ]
  },
  {
   "cell_type": "code",
   "execution_count": 21,
   "metadata": {},
   "outputs": [
    {
     "name": "stdout",
     "output_type": "stream",
     "text": [
      " Lowest Range Value: 1\n",
      " Upper Range Value: 50\n",
      "The Prime Numbers in the range are: \n",
      "2\n",
      "3\n",
      "5\n",
      "7\n",
      "11\n",
      "13\n",
      "17\n",
      "19\n",
      "23\n",
      "29\n",
      "31\n",
      "37\n",
      "41\n",
      "43\n",
      "47\n"
     ]
    }
   ],
   "source": [
    "lower_value = int(input (\" Lowest Range Value: \"))  \n",
    "upper_value = int(input (\" Upper Range Value: \"))  \n",
    "  \n",
    "print (\"The Prime Numbers in the range are: \")  \n",
    "for number in range (lower_value, upper_value + 1):  \n",
    "    if number > 1:  \n",
    "        for i in range (2, number):  \n",
    "            if (number % i) == 0:  \n",
    "                break  \n",
    "        else:  \n",
    "            print (number)  "
   ]
  },
  {
   "cell_type": "code",
   "execution_count": null,
   "metadata": {},
   "outputs": [],
   "source": []
  }
 ],
 "metadata": {
  "kernelspec": {
   "display_name": "Python 3",
   "language": "python",
   "name": "python3"
  },
  "language_info": {
   "codemirror_mode": {
    "name": "ipython",
    "version": 3
   },
   "file_extension": ".py",
   "mimetype": "text/x-python",
   "name": "python",
   "nbconvert_exporter": "python",
   "pygments_lexer": "ipython3",
   "version": "3.8.5"
  }
 },
 "nbformat": 4,
 "nbformat_minor": 4
}
