{
 "cells": [
  {
   "cell_type": "markdown",
   "metadata": {},
   "source": [
    "1. Write a Python program to convert kilometers to miles?\n",
    "2. Write a Python program to convert Celsius to Fahrenheit?\n",
    "3. Write a Python program to display calendar?\n",
    "4. Write a Python program to solve quadratic equation?\n",
    "5. Write a Python program to swap two variables without temp variable?"
   ]
  },
  {
   "cell_type": "code",
   "execution_count": 4,
   "metadata": {},
   "outputs": [
    {
     "name": "stdout",
     "output_type": "stream",
     "text": [
      "Enter the year: 2022\n",
      "Enter the month: 8\n",
      "    August 2022\n",
      "Mo Tu We Th Fr Sa Su\n",
      " 1  2  3  4  5  6  7\n",
      " 8  9 10 11 12 13 14\n",
      "15 16 17 18 19 20 21\n",
      "22 23 24 25 26 27 28\n",
      "29 30 31\n",
      "\n"
     ]
    }
   ],
   "source": [
    "import calendar\n",
    "\n",
    "year=int(input(\"Enter the year: \"))\n",
    "month=int(input(\"Enter the month: \"))\n",
    "\n",
    "cal=calendar.month(year, month)\n",
    "print(cal)"
   ]
  },
  {
   "cell_type": "code",
   "execution_count": 7,
   "metadata": {},
   "outputs": [
    {
     "name": "stdout",
     "output_type": "stream",
     "text": [
      "Enter no. miles: 11\n",
      "11 miles is 17.70274 km \n"
     ]
    }
   ],
   "source": [
    "miles=int(input(\"Enter no. miles: \"))\n",
    "km =miles*1.60934\n",
    "print(f\"{miles} miles is {km} km \")"
   ]
  },
  {
   "cell_type": "code",
   "execution_count": 9,
   "metadata": {},
   "outputs": [
    {
     "name": "stdout",
     "output_type": "stream",
     "text": [
      "Enter temp in celcius: 37\n",
      "37 deg celcius is 98.60000000000001 deg farenheit\n"
     ]
    }
   ],
   "source": [
    "tempc= int(input(\"Enter temp in celcius: \"))\n",
    "tempf=(tempc*1.8)+32\n",
    "print(f\"{tempc} deg celcius is {tempf} deg farenheit\")"
   ]
  },
  {
   "cell_type": "code",
   "execution_count": 11,
   "metadata": {},
   "outputs": [
    {
     "name": "stdout",
     "output_type": "stream",
     "text": [
      "Enter a: 1\n",
      "Enter b: -7\n",
      "Enter c: 10\n",
      "1st root is 5 and 2nd root is 2\n"
     ]
    }
   ],
   "source": [
    "import math\n",
    "# ax**2+bx+c=0\n",
    "a=int(input(\"Enter a: \"))\n",
    "b=int(input(\"Enter b: \"))\n",
    "c=int(input(\"Enter c: \"))\n",
    "\n",
    "z=math.sqrt(b**2-4*a*c)\n",
    "\n",
    "r1=(-b+z)/2*a\n",
    "r2=(-b-z)/2*a\n",
    "print(f\"1st root is {int(r1)} and 2nd root is {int(r2)}\")"
   ]
  },
  {
   "cell_type": "code",
   "execution_count": 12,
   "metadata": {},
   "outputs": [
    {
     "name": "stdout",
     "output_type": "stream",
     "text": [
      "12 11\n"
     ]
    }
   ],
   "source": [
    "num1=11\n",
    "num2=12\n",
    "num1=num1+num2 #23\n",
    "num2=num1-num2 #11\n",
    "num1=num1-num2 #12\n",
    "\n",
    "# num1, num2 = num2, num1\n",
    "print(num1, num2)"
   ]
  }
 ],
 "metadata": {
  "kernelspec": {
   "display_name": "Python 3",
   "language": "python",
   "name": "python3"
  },
  "language_info": {
   "codemirror_mode": {
    "name": "ipython",
    "version": 3
   },
   "file_extension": ".py",
   "mimetype": "text/x-python",
   "name": "python",
   "nbconvert_exporter": "python",
   "pygments_lexer": "ipython3",
   "version": "3.8.5"
  }
 },
 "nbformat": 4,
 "nbformat_minor": 4
}
