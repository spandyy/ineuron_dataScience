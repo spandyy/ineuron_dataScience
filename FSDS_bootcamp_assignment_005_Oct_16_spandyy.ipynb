{
 "cells": [
  {
   "cell_type": "markdown",
   "metadata": {
    "id": "dkGbTD94s6CD"
   },
   "source": [
    "# ASSIGNMENTS \n",
    "## Send it before 0000 hrs IST or 12 AM Friday\n",
    "\n",
    "## NOTE: Evaluation will be done before next class.\n",
    "\n",
    "## HOW TO SUBMIT: -\n",
    "Download this notebook, Solve it and upload in the google form given in the mail."
   ]
  },
  {
   "cell_type": "markdown",
   "metadata": {
    "id": "n3FuI-mutNl6"
   },
   "source": [
    "# List, Tuple and Sets"
   ]
  },
  {
   "cell_type": "markdown",
   "metadata": {
    "id": "hZcGNSR2y9zW"
   },
   "source": [
    "#### 1. On amazon website we have the following available items - \n",
    "\n",
    "```python\n",
    "amazon_website = [(\"watch\", 5000), (\"phone\", 10000), (\"laptop\", 50000), (\"shirt\", 1000)]\n",
    "```\n",
    "Take the user input N no. of times and find out the total cost to be paid?\n",
    "\n",
    "OR\n",
    "\n",
    "You can ask the user quntity or the count of item?\n",
    "\n",
    "if the item is not present in the amazon website then print that item as out of stock and do add it total\n",
    "\n",
    "\n",
    "HINT: while, for loop.. indexing"
   ]
  },
  {
   "cell_type": "markdown",
   "metadata": {
    "id": "FQrKC2gzzsUm"
   },
   "source": [
    "#### 2. What will be the output of the following code snippet?\n",
    "\n",
    "```\n",
    "arr = [1, 2, 3, 4, 5, 6]\n",
    "for i in range(1, 6):\n",
    "    arr[i - 1] = arr[i]\n",
    "for i in range(0, 6): \n",
    "    print(arr[i], end = \" \")\n",
    "```"
   ]
  },
  {
   "cell_type": "markdown",
   "metadata": {
    "id": "nL_DZJFS0ZZF"
   },
   "source": [
    "#### 3. Write a Python program to find the repeated items of a tuple."
   ]
  },
  {
   "cell_type": "markdown",
   "metadata": {
    "id": "ne8WpLZZ1GSm"
   },
   "source": [
    "### 4. Replace last value of tuples in a list with 500. Try using list comprehension\n",
    "\n",
    "Example -: \n",
    "```\n",
    "Input -:\n",
    "\n",
    "[(10, 20, 40), (40, 50, 60), (70, 80, 90)]\n",
    "\n",
    "Output -:\n",
    "[(10, 20, 500), (40, 50, 500), (70, 80, 500)]\n",
    "\n",
    "\n",
    "```\n"
   ]
  },
  {
   "cell_type": "code",
   "execution_count": 1,
   "metadata": {
    "id": "YpvH9Di21z-O"
   },
   "outputs": [
    {
     "name": "stdout",
     "output_type": "stream",
     "text": [
      "No of item you want to purchase: 2\n",
      "Enter the item that you want to purchase: sd\n",
      "['sd']\n",
      "Enter the item that you want to purchase: s\n",
      "['sd', 's']\n",
      "['sd', 's']\n"
     ]
    }
   ],
   "source": [
    "list_of_item_to_purchase = list() # empty list\n",
    "\n",
    "N = int(input(\"No of item you want to purchase: \"))\n",
    "for i in range(N):\n",
    "  user_input = input(\"Enter the item that you want to purchase: \")\n",
    "  list_of_item_to_purchase = list_of_item_to_purchase + [user_input]\n",
    "  print(f\"{list_of_item_to_purchase}\")\n",
    "\n",
    "print(list_of_item_to_purchase)"
   ]
  },
  {
   "cell_type": "code",
   "execution_count": 2,
   "metadata": {
    "id": "mbx4uz9Y2bHk"
   },
   "outputs": [
    {
     "name": "stdout",
     "output_type": "stream",
     "text": [
      "['sed', 2, 4, 5667, 4]\n"
     ]
    }
   ],
   "source": [
    "l1=[]\n",
    "l1=l1+[\"sed\",2,4,5667,4]\n",
    "print(l1)"
   ]
  },
  {
   "cell_type": "code",
   "execution_count": 3,
   "metadata": {},
   "outputs": [
    {
     "name": "stdout",
     "output_type": "stream",
     "text": [
      "No of item you want to purchase: 2\n",
      "Enter the item that you want to purchase: s\n",
      "Enter the item that you want to purchase: f\n",
      "['s', 'f']\n"
     ]
    }
   ],
   "source": [
    "list_of_item_to_purchase = list() # empty list\n",
    "\n",
    "N = int(input(\"No of item you want to purchase: \"))\n",
    "i = 0\n",
    "while i < N:\n",
    "  user_input = input(\"Enter the item that you want to purchase: \")\n",
    "  list_of_item_to_purchase = list_of_item_to_purchase + [user_input]\n",
    "  i = i + 1\n",
    "  \n",
    "print(list_of_item_to_purchase)"
   ]
  },
  {
   "cell_type": "code",
   "execution_count": 4,
   "metadata": {},
   "outputs": [
    {
     "name": "stdout",
     "output_type": "stream",
     "text": [
      "bhaveen 7\n",
      "abhishek 8\n",
      "dew 3\n",
      "dj 2\n",
      "chalie 6\n",
      "8\n"
     ]
    }
   ],
   "source": [
    "string_example = [\"bhaveen\", \"abhishek\", \"dew\", \"dj\", \"chalie\"]\n",
    "max_len=0\n",
    "for name in string_example:\n",
    "    print(name,len(name))\n",
    "    if max_len < len(name):\n",
    "        max_len=len(name)\n",
    "        \n",
    "print(max_len, )"
   ]
  },
  {
   "cell_type": "code",
   "execution_count": 10,
   "metadata": {},
   "outputs": [
    {
     "name": "stdout",
     "output_type": "stream",
     "text": [
      "No of item you want to purchase: 1\n",
      "Enter the item that you want to purchase: shirt\n",
      "total is 0\n"
     ]
    }
   ],
   "source": [
    "amazon_website = [(\"watch\", 5000), (\"phone\", 10000), (\"laptop\", 50000), (\"shirt\", 1000)]\n",
    "N = int(input(\"No of item you want to purchase: \"))\n",
    "total=0\n",
    "user_input = input(\"Enter the item that you want to purchase: \")\n",
    "for item in amazon_website:\n",
    "    \n",
    "    amazon_website=list()\n",
    "    if item[0]==user_input:\n",
    "        continue\n",
    "        print(item[1])\n",
    "        total=total+item[1]\n",
    "        print(f\"Cost of {item[0]} : {total}\")\n",
    "        \n",
    "print(f\"total is {total}\")\n",
    "\n",
    "# for i in amazon_website:\n",
    "#     print(i[0])"
   ]
  },
  {
   "cell_type": "code",
   "execution_count": 11,
   "metadata": {},
   "outputs": [
    {
     "name": "stdout",
     "output_type": "stream",
     "text": [
      "2 3 4 5 6 "
     ]
    }
   ],
   "source": [
    "arr = [1, 2, 3, 4, 5, 6]\n",
    "for i in range(1, 6):\n",
    "    arr[i - 1] = arr[i]\n",
    "# for i in range(0, 6): \n",
    "    print(arr[i], end = \" \")"
   ]
  },
  {
   "cell_type": "code",
   "execution_count": 31,
   "metadata": {},
   "outputs": [
    {
     "name": "stdout",
     "output_type": "stream",
     "text": [
      "(10, 20, 500)\n",
      "(40, 50, 500)\n",
      "(70, 80, 500)\n",
      "(10, 20, 500)\n",
      "(40, 50, 500)\n",
      "(70, 80, 500)\n",
      "(10, 20, 500)\n",
      "(40, 50, 500)\n",
      "(70, 80, 500)\n"
     ]
    }
   ],
   "source": [
    "l=[(10, 20, 40), (40, 50, 60), (70, 80, 90)]\n",
    "a=len(l)\n",
    "for i in range(a):\n",
    "    for i in l:\n",
    "        i=list(i)\n",
    "        i[2]=500\n",
    "        i=tuple(i)\n",
    "        print(i)"
   ]
  },
  {
   "cell_type": "code",
   "execution_count": 20,
   "metadata": {},
   "outputs": [
    {
     "data": {
      "text/plain": [
       "90"
      ]
     },
     "execution_count": 20,
     "metadata": {},
     "output_type": "execute_result"
    }
   ],
   "source": [
    "t=(70, 80, 90)\n",
    "t[2]"
   ]
  },
  {
   "cell_type": "code",
   "execution_count": 34,
   "metadata": {},
   "outputs": [
    {
     "name": "stdout",
     "output_type": "stream",
     "text": [
      "[0, 1, 2, 3, 4, 5, 6, 7]\n"
     ]
    }
   ],
   "source": [
    "l1=[1,2,3,4,5,3,3,2]\n",
    "l2=[]\n",
    "for i in range(len(l1)):\n",
    "    l2.append(i)\n",
    "print(l2 "
   ]
  },
  {
   "cell_type": "code",
   "execution_count": 2,
   "metadata": {},
   "outputs": [
    {
     "name": "stdout",
     "output_type": "stream",
     "text": [
      "yes\n"
     ]
    }
   ],
   "source": [
    "a=12\n",
    "\n",
    "# if type(a)==int:\n",
    "    \n",
    "#     or---\n",
    "    \n",
    "if isinstance(a, int):\n",
    "    print(\"yes\")\n",
    "    \n",
    "else:\n",
    "    print(\"no\")"
   ]
  },
  {
   "cell_type": "code",
   "execution_count": 3,
   "metadata": {},
   "outputs": [
    {
     "name": "stdout",
     "output_type": "stream",
     "text": [
      "14 15\n"
     ]
    }
   ],
   "source": [
    "a=15\n",
    "def fun():\n",
    "    b=14\n",
    "    print(b, end=\" \")\n",
    "\n",
    "fun()\n",
    "print(a)"
   ]
  },
  {
   "cell_type": "code",
   "execution_count": 1,
   "metadata": {},
   "outputs": [
    {
     "data": {
      "text/plain": [
       "2"
      ]
     },
     "execution_count": 1,
     "metadata": {},
     "output_type": "execute_result"
    }
   ],
   "source": [
    "t=(1,2,3,4,2)\n",
    "t.count(2)"
   ]
  },
  {
   "cell_type": "code",
   "execution_count": 5,
   "metadata": {},
   "outputs": [
    {
     "name": "stdout",
     "output_type": "stream",
     "text": [
      "{1, 2, 3, 4}\n"
     ]
    },
    {
     "data": {
      "text/plain": [
       "1"
      ]
     },
     "execution_count": 5,
     "metadata": {},
     "output_type": "execute_result"
    }
   ],
   "source": [
    "l={1,2,3,4,2,1,3}\n",
    "print(l)\n",
    "l.pop()"
   ]
  },
  {
   "cell_type": "code",
   "execution_count": 6,
   "metadata": {},
   "outputs": [
    {
     "data": {
      "text/plain": [
       "2"
      ]
     },
     "execution_count": 6,
     "metadata": {},
     "output_type": "execute_result"
    }
   ],
   "source": [
    "l.pop()"
   ]
  },
  {
   "cell_type": "code",
   "execution_count": 9,
   "metadata": {},
   "outputs": [
    {
     "data": {
      "text/plain": [
       "bool"
      ]
     },
     "execution_count": 9,
     "metadata": {},
     "output_type": "execute_result"
    }
   ],
   "source": [
    "type(True)"
   ]
  },
  {
   "cell_type": "code",
   "execution_count": null,
   "metadata": {},
   "outputs": [],
   "source": []
  }
 ],
 "metadata": {
  "colab": {
   "collapsed_sections": [],
   "provenance": []
  },
  "kernelspec": {
   "display_name": "Python 3",
   "language": "python",
   "name": "python3"
  },
  "language_info": {
   "codemirror_mode": {
    "name": "ipython",
    "version": 3
   },
   "file_extension": ".py",
   "mimetype": "text/x-python",
   "name": "python",
   "nbconvert_exporter": "python",
   "pygments_lexer": "ipython3",
   "version": "3.8.5"
  }
 },
 "nbformat": 4,
 "nbformat_minor": 1
}
