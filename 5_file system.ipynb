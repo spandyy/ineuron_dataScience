{
 "cells": [
  {
   "cell_type": "code",
   "execution_count": 10,
   "metadata": {
    "scrolled": true
   },
   "outputs": [
    {
     "name": "stdout",
     "output_type": "stream",
     "text": [
      " Volume in drive C is Windows\n",
      " Volume Serial Number is 28FC-998A\n",
      "\n",
      " Directory of C:\\Users\\spand\\DS_neuron\n",
      "\n",
      "09/13/2022  04:50 PM    <DIR>          .\n",
      "09/13/2022  03:40 PM    <DIR>          ..\n",
      "09/13/2022  04:47 PM    <DIR>          .ipynb_checkpoints\n",
      "09/07/2022  07:46 PM             4,185 DS_Assignment no.1.ipynb\n",
      "09/10/2022  01:18 PM             5,966 DS_Assignment no.2.ipynb\n",
      "09/10/2022  01:23 PM             1,714 DS_Assignment no.3.ipynb\n",
      "09/13/2022  04:50 PM             5,518 file system.ipynb\n",
      "09/13/2022  04:46 PM            36,634 Functions and generator, iter.ipynb\n",
      "09/12/2022  06:53 PM             1,100 generator.ipynb\n",
      "09/10/2022  08:45 PM           612,698 If, else - For, while .ipynb\n",
      "09/06/2022  11:50 AM            10,765 Str,List Indexing .ipynb\n",
      "09/07/2022  10:12 PM            11,983 Tuple,Set and Dict .ipynb\n",
      "               9 File(s)        690,563 bytes\n",
      "               3 Dir(s)  186,666,045,440 bytes free\n"
     ]
    }
   ],
   "source": [
    "ls"
   ]
  },
  {
   "cell_type": "code",
   "execution_count": 5,
   "metadata": {},
   "outputs": [
    {
     "data": {
      "text/plain": [
       "['ARIMA',\n",
       " 'CountVectorizer',\n",
       " 'ElasticNet',\n",
       " 'ElasticNetCV',\n",
       " 'GradientBoostingClassifier',\n",
       " 'GradientBoostingRegressor',\n",
       " 'GridSearchCV',\n",
       " 'Image',\n",
       " 'In',\n",
       " 'KFold',\n",
       " 'KMeans',\n",
       " 'LabelEncoder',\n",
       " 'Lasso',\n",
       " 'LassoCV',\n",
       " 'LazyImport',\n",
       " 'LinearRegression',\n",
       " 'LogisticRegression',\n",
       " 'MinMaxScaler',\n",
       " 'OneHotEncoder',\n",
       " 'Out',\n",
       " 'PCA',\n",
       " 'Path',\n",
       " 'PolynomialFeatures',\n",
       " 'Prophet',\n",
       " 'RandomForestClassifier',\n",
       " 'RandomForestRegressor',\n",
       " 'RandomizedSearchCV',\n",
       " 'Ridge',\n",
       " 'RidgeCV',\n",
       " 'RobustScaler',\n",
       " 'SimpleImputer',\n",
       " 'SparkContext',\n",
       " 'StandardScaler',\n",
       " 'StratifiedKFold',\n",
       " 'TSNE',\n",
       " 'TfidfVectorizer',\n",
       " '_',\n",
       " '__',\n",
       " '___',\n",
       " '__builtin__',\n",
       " '__builtins__',\n",
       " '__cached__',\n",
       " '__doc__',\n",
       " '__loader__',\n",
       " '__name__',\n",
       " '__package__',\n",
       " '__path__',\n",
       " '__spec__',\n",
       " '_dh',\n",
       " '_exit_code',\n",
       " '_i',\n",
       " '_i1',\n",
       " '_i2',\n",
       " '_i3',\n",
       " '_i4',\n",
       " '_i5',\n",
       " '_ih',\n",
       " '_ii',\n",
       " '_iii',\n",
       " '_importable',\n",
       " '_imports',\n",
       " '_oh',\n",
       " 'active_imports',\n",
       " 'alt',\n",
       " 'bokeh',\n",
       " 'cross_val_score',\n",
       " 'cv2',\n",
       " 'dash',\n",
       " 'dd',\n",
       " 'dt',\n",
       " 'exit',\n",
       " 'fastai',\n",
       " 'fbprophet',\n",
       " 'gensim',\n",
       " 'get_ipython',\n",
       " 'get_user_symbols',\n",
       " 'glob',\n",
       " 'go',\n",
       " 'imutils',\n",
       " 'install_extensions',\n",
       " 'install_labextension',\n",
       " 'install_nbextension',\n",
       " 'keras',\n",
       " 'lazy_imports',\n",
       " 'lgb',\n",
       " 'load_workbook',\n",
       " 'metrics',\n",
       " 'mpl',\n",
       " 'nltk',\n",
       " 'np',\n",
       " 'open_workbook',\n",
       " 'os',\n",
       " 'pd',\n",
       " 'pickle',\n",
       " 'plt',\n",
       " 'px',\n",
       " 'py',\n",
       " 'pydot',\n",
       " 'pyforest',\n",
       " 'quit',\n",
       " 're',\n",
       " 'sg',\n",
       " 'skimage',\n",
       " 'sklearn',\n",
       " 'sm',\n",
       " 'sns',\n",
       " 'spacy',\n",
       " 'statistics',\n",
       " 'stats',\n",
       " 'svm',\n",
       " 'sys',\n",
       " 'textblob',\n",
       " 'tf',\n",
       " 'torch',\n",
       " 'tqdm',\n",
       " 'train_test_split',\n",
       " 'user_specific_imports',\n",
       " 'user_symbols',\n",
       " 'utils',\n",
       " 'wr',\n",
       " 'xgb']"
      ]
     },
     "execution_count": 5,
     "metadata": {},
     "output_type": "execute_result"
    }
   ],
   "source": [
    "dir()"
   ]
  },
  {
   "cell_type": "code",
   "execution_count": 6,
   "metadata": {},
   "outputs": [
    {
     "data": {
      "text/plain": [
       "'C:\\\\Users\\\\spand\\\\DS_neuron'"
      ]
     },
     "execution_count": 6,
     "metadata": {},
     "output_type": "execute_result"
    }
   ],
   "source": [
    "pwd()"
   ]
  },
  {
   "cell_type": "code",
   "execution_count": 11,
   "metadata": {},
   "outputs": [],
   "source": [
    "f=open('text.txt','w')"
   ]
  },
  {
   "cell_type": "code",
   "execution_count": 12,
   "metadata": {},
   "outputs": [
    {
     "name": "stdout",
     "output_type": "stream",
     "text": [
      " Volume in drive C is Windows\n",
      " Volume Serial Number is 28FC-998A\n",
      "\n",
      " Directory of C:\\Users\\spand\\DS_neuron\n",
      "\n",
      "09/13/2022  04:54 PM    <DIR>          .\n",
      "09/13/2022  03:40 PM    <DIR>          ..\n",
      "09/13/2022  04:47 PM    <DIR>          .ipynb_checkpoints\n",
      "09/07/2022  07:46 PM             4,185 DS_Assignment no.1.ipynb\n",
      "09/10/2022  01:18 PM             5,966 DS_Assignment no.2.ipynb\n",
      "09/10/2022  01:23 PM             1,714 DS_Assignment no.3.ipynb\n",
      "09/13/2022  04:52 PM             5,544 file system.ipynb\n",
      "09/13/2022  04:46 PM            36,634 Functions and generator, iter.ipynb\n",
      "09/12/2022  06:53 PM             1,100 generator.ipynb\n",
      "09/10/2022  08:45 PM           612,698 If, else - For, while .ipynb\n",
      "09/06/2022  11:50 AM            10,765 Str,List Indexing .ipynb\n",
      "09/13/2022  04:54 PM                 0 text.txt\n",
      "09/07/2022  10:12 PM            11,983 Tuple,Set and Dict .ipynb\n",
      "              10 File(s)        690,589 bytes\n",
      "               3 Dir(s)  186,667,638,784 bytes free\n"
     ]
    }
   ],
   "source": [
    "ls"
   ]
  },
  {
   "cell_type": "code",
   "execution_count": 13,
   "metadata": {},
   "outputs": [
    {
     "data": {
      "text/plain": [
       "63"
      ]
     },
     "execution_count": 13,
     "metadata": {},
     "output_type": "execute_result"
    }
   ],
   "source": [
    "f.write(\"wlhiw ihawr,m, npwahkm,knwalj iuhibkjniuawyoahr o;ihkjz hfsey r\")"
   ]
  },
  {
   "cell_type": "code",
   "execution_count": 14,
   "metadata": {},
   "outputs": [],
   "source": [
    "f.close()"
   ]
  },
  {
   "cell_type": "code",
   "execution_count": 17,
   "metadata": {},
   "outputs": [
    {
     "data": {
      "text/plain": [
       "'wlhiw ihawr,m, npwahkm,knwalj iuhibkjniuawyoahr o;ihkjz hfsey r'"
      ]
     },
     "execution_count": 17,
     "metadata": {},
     "output_type": "execute_result"
    }
   ],
   "source": [
    "#we have to close the file to view the updates \n",
    "f=open('text.txt')\n",
    "f.read()"
   ]
  },
  {
   "cell_type": "code",
   "execution_count": 18,
   "metadata": {},
   "outputs": [
    {
     "data": {
      "text/plain": [
       "''"
      ]
     },
     "execution_count": 18,
     "metadata": {},
     "output_type": "execute_result"
    }
   ],
   "source": [
    "f.read()"
   ]
  },
  {
   "cell_type": "code",
   "execution_count": 19,
   "metadata": {},
   "outputs": [
    {
     "data": {
      "text/plain": [
       "5"
      ]
     },
     "execution_count": 19,
     "metadata": {},
     "output_type": "execute_result"
    }
   ],
   "source": [
    "f.seek(5)# gets the pointer to that index position"
   ]
  },
  {
   "cell_type": "code",
   "execution_count": 20,
   "metadata": {},
   "outputs": [
    {
     "data": {
      "text/plain": [
       "' ihawr,m, npwahkm,knwalj iuhibkjniuawyoahr o;ihkjz hfsey r'"
      ]
     },
     "execution_count": 20,
     "metadata": {},
     "output_type": "execute_result"
    }
   ],
   "source": [
    "f.read()"
   ]
  },
  {
   "cell_type": "code",
   "execution_count": 21,
   "metadata": {},
   "outputs": [
    {
     "data": {
      "text/plain": [
       "63"
      ]
     },
     "execution_count": 21,
     "metadata": {},
     "output_type": "execute_result"
    }
   ],
   "source": [
    "f.tell()"
   ]
  },
  {
   "cell_type": "code",
   "execution_count": 23,
   "metadata": {},
   "outputs": [],
   "source": [
    "f=open(\"google.txt\", \"w\")\n"
   ]
  },
  {
   "cell_type": "code",
   "execution_count": 24,
   "metadata": {},
   "outputs": [
    {
     "data": {
      "text/plain": [
       "1378"
      ]
     },
     "execution_count": 24,
     "metadata": {},
     "output_type": "execute_result"
    }
   ],
   "source": [
    "f.write(\"\"\"Lorem ipsum dolor sit amet, consectetuer adipiscing elit.\n",
    "Aenean commodo ligula eget dolor. Aenean massa. Cum sociis natoque penatibus et mag\n",
    "\n",
    "nis dis parturient montes, nascetur ridiculus mus. Donec quam felis, ultricies nec, pellentesque eu, pretium quis, sem\n",
    ". Nulla consequat massa quis enim. Donec pede justo, fringilla vel, aliquet nec, vulputate eget, arcu. In enim justo, rhonc\n",
    "us ut, imperdiet a, venenatis vitae, justo. Nullam dictum felis eu pede mollis pretium. Integer tincidunt. Cras dapibus. Viv\n",
    "amus elementum semper nisi. Aenean vulputate eleifend tellus. Aenean leo ligula, porttitor eu, consequat vitae, eleifend ac,\n",
    "enim. Aliquam lorem ante, dapibus in, viverra quis, feugiat a, tellus. Phasellus viverra nulla ut metus varius laoreet. Quisque rutrum. Aenean imperdiet. Etiam ultricies nisi vel augue. Curabitur ullamcorper ultricies nisi. Nam eget dui. Etiam rhoncus. Maecenas tempus, tellus eget condimentum rhoncus, sem quam semper libero, sit amet adipiscing sem neque sed ipsum. Nam quam nunc, blandit vel, luctus pulvinar, hendrerit id, lorem. Maecenas nec odio et ante tincidunt tempus. Donec vitae sapien ut libero venenatis faucibus. Nullam quis ante. Etiam sit amet orci eget eros faucibus tincidunt. Duis leo. Sed fringilla mauris sit amet nibh. Donec sodales sagittis magna. Sed consequat, leo eget bibendum sodales, augue velit cursus nunc,\"\"\")"
   ]
  },
  {
   "cell_type": "code",
   "execution_count": 27,
   "metadata": {},
   "outputs": [],
   "source": [
    "f.close()"
   ]
  },
  {
   "cell_type": "code",
   "execution_count": 31,
   "metadata": {},
   "outputs": [
    {
     "name": "stdout",
     "output_type": "stream",
     "text": [
      "Lorem ipsum dolor sit amet, consectetuer adipiscing elit.\n",
      "Aenean commodo ligula eget dolor. Aenean massa. Cum sociis natoque penatibus et mag\n",
      "\n",
      "nis dis parturient montes, nascetur ridiculus mus. Donec quam felis, ultricies nec, pellentesque eu, pretium quis, sem\n",
      ". Nulla consequat massa quis enim. Donec pede justo, fringilla vel, aliquet nec, vulputate eget, arcu. In enim justo, rhonc\n",
      "us ut, imperdiet a, venenatis vitae, justo. Nullam dictum felis eu pede mollis pretium. Integer tincidunt. Cras dapibus. Viv\n",
      "amus elementum semper nisi. Aenean vulputate eleifend tellus. Aenean leo ligula, porttitor eu, consequat vitae, eleifend ac,\n",
      "en\n",
      "im. Aliquam lorem ante, dapibus in, viverra quis, feugiat a, tellus. Phasellus viverra nulla ut metus varius laoreet. Quisqu\n",
      "e rutrum. Aenean imperdiet. Etiam ultricies nisi vel augue. Curabitur ullamcorper ultricies nisi. Nam eget dui. Etiam rhoncus\n",
      ". Maecenas tempus, tellus eget condimentum rhoncus, sem quam semper libero, sit amet adipiscing sem neque sed ipsum. Nam quam\n",
      "nunc, blandit vel, luctus pulvinar, hendrerit id, lorem. Maecenas nec odio et ante tincidunt tempus. Donec vitae sapien ut l\n",
      "ibero venenatis faucibus. Nullam quis ante. Etiam sit amet orci eget eros faucibus tincidunt. Duis leo. Sed fringilla mauris \n",
      "sit amet nibh. Donec sodales sagittis magna. Sed consequat, leo eget bibendum sodales, augue velit cursus nunc,"
     ]
    }
   ],
   "source": [
    "f=open(\"google.txt\", \"r+\")#read and write \n",
    "for line in f:\n",
    "    print(line, end=\"\")"
   ]
  },
  {
   "cell_type": "code",
   "execution_count": 36,
   "metadata": {},
   "outputs": [],
   "source": [
    "f.seek(0)\n",
    "l=f.readlines()"
   ]
  },
  {
   "cell_type": "code",
   "execution_count": 41,
   "metadata": {},
   "outputs": [],
   "source": [
    "l1=[]\n",
    "for i in l[0].split():\n",
    "    l1.append(i)"
   ]
  },
  {
   "cell_type": "code",
   "execution_count": 42,
   "metadata": {},
   "outputs": [
    {
     "data": {
      "text/plain": [
       "['Lorem',\n",
       " 'ipsum',\n",
       " 'dolor',\n",
       " 'sit',\n",
       " 'amet,',\n",
       " 'consectetuer',\n",
       " 'adipiscing',\n",
       " 'elit.']"
      ]
     },
     "execution_count": 42,
     "metadata": {},
     "output_type": "execute_result"
    }
   ],
   "source": [
    "l1"
   ]
  },
  {
   "cell_type": "code",
   "execution_count": 48,
   "metadata": {},
   "outputs": [
    {
     "data": {
      "text/plain": [
       "'Lorem ipsum dolor sit amet, consectetuer adipiscing elit.\\n'"
      ]
     },
     "execution_count": 48,
     "metadata": {},
     "output_type": "execute_result"
    }
   ],
   "source": [
    "list(l)\n",
    "l[0]"
   ]
  },
  {
   "cell_type": "code",
   "execution_count": null,
   "metadata": {},
   "outputs": [],
   "source": []
  }
 ],
 "metadata": {
  "kernelspec": {
   "display_name": "Python 3",
   "language": "python",
   "name": "python3"
  },
  "language_info": {
   "codemirror_mode": {
    "name": "ipython",
    "version": 3
   },
   "file_extension": ".py",
   "mimetype": "text/x-python",
   "name": "python",
   "nbconvert_exporter": "python",
   "pygments_lexer": "ipython3",
   "version": "3.8.5"
  }
 },
 "nbformat": 4,
 "nbformat_minor": 4
}
