{
 "cells": [
  {
   "cell_type": "code",
   "execution_count": 2,
   "metadata": {},
   "outputs": [],
   "source": [
    "#sql and nosql\n",
    "#sql-> sql and sql lite\n",
    "#nosql-> mongodb and cassandra(fb invented)"
   ]
  },
  {
   "cell_type": "code",
   "execution_count": null,
   "metadata": {},
   "outputs": [],
   "source": [
    "#Databases Structured Filesystem (holding data in tabular format)"
   ]
  },
  {
   "cell_type": "code",
   "execution_count": 1,
   "metadata": {},
   "outputs": [
    {
     "name": "stdout",
     "output_type": "stream",
     "text": [
      "Collecting mysql-connector-python\n",
      "  Downloading mysql_connector_python-8.0.30-cp38-cp38-win_amd64.whl (7.8 MB)\n",
      "Requirement already satisfied: protobuf<=3.20.1,>=3.11.0 in c:\\users\\spand\\anaconda3\\lib\\site-packages (from mysql-connector-python) (3.20.1)\n",
      "Installing collected packages: mysql-connector-python\n",
      "Successfully installed mysql-connector-python-8.0.30\n"
     ]
    }
   ],
   "source": [
    "!pip install mysql-connector-python #pypi.com (all the packages are present here)(pip is a repository from that we are,\n",
    "#installing package )"
   ]
  },
  {
   "cell_type": "code",
   "execution_count": 1,
   "metadata": {},
   "outputs": [],
   "source": [
    "import mysql.connector as con #establishing communication jupyter notebook and workbench"
   ]
  },
  {
   "cell_type": "code",
   "execution_count": 2,
   "metadata": {},
   "outputs": [],
   "source": [
    "mydb = con.connect(host= 'localhost',user= \"root\",passwd=\"Summer@7\" )"
   ]
  },
  {
   "cell_type": "code",
   "execution_count": 3,
   "metadata": {},
   "outputs": [
    {
     "data": {
      "text/plain": [
       "<mysql.connector.connection_cext.CMySQLConnection at 0x29c9c37b8b0>"
      ]
     },
     "execution_count": 3,
     "metadata": {},
     "output_type": "execute_result"
    }
   ],
   "source": [
    "mydb"
   ]
  },
  {
   "cell_type": "code",
   "execution_count": 4,
   "metadata": {},
   "outputs": [],
   "source": [
    "cursor = mydb.cursor()"
   ]
  },
  {
   "cell_type": "code",
   "execution_count": 5,
   "metadata": {},
   "outputs": [],
   "source": [
    "cursor.execute(\"show databases\")"
   ]
  },
  {
   "cell_type": "code",
   "execution_count": 6,
   "metadata": {},
   "outputs": [
    {
     "data": {
      "text/plain": [
       "[('edureka',),\n",
       " ('information_schema',),\n",
       " ('mysql',),\n",
       " ('neuron',),\n",
       " ('performance_schema',),\n",
       " ('sakila',),\n",
       " ('sys',),\n",
       " ('world',)]"
      ]
     },
     "execution_count": 6,
     "metadata": {},
     "output_type": "execute_result"
    }
   ],
   "source": [
    "cursor.fetchall()"
   ]
  },
  {
   "cell_type": "code",
   "execution_count": 7,
   "metadata": {},
   "outputs": [],
   "source": [
    "cursor = mydb.cursor() #create pointers "
   ]
  },
  {
   "cell_type": "code",
   "execution_count": 9,
   "metadata": {},
   "outputs": [],
   "source": [
    "# cursor.execute(\"create database neuron\")"
   ]
  },
  {
   "cell_type": "code",
   "execution_count": 10,
   "metadata": {},
   "outputs": [
    {
     "data": {
      "text/plain": [
       "[('edureka',),\n",
       " ('information_schema',),\n",
       " ('mysql',),\n",
       " ('neuron',),\n",
       " ('performance_schema',),\n",
       " ('sakila',),\n",
       " ('sys',),\n",
       " ('world',)]"
      ]
     },
     "execution_count": 10,
     "metadata": {},
     "output_type": "execute_result"
    }
   ],
   "source": [
    "cursor.execute(\"show databases\")\n",
    "cursor.fetchall()"
   ]
  },
  {
   "cell_type": "code",
   "execution_count": 17,
   "metadata": {},
   "outputs": [],
   "source": [
    "cursor.execute('create table neuron.stud(studentid INT(10), firstname VARCHAR(30), lastname VARCHAR(30), regid INT(10), classname VARCHAR(20))')"
   ]
  },
  {
   "cell_type": "code",
   "execution_count": 18,
   "metadata": {},
   "outputs": [],
   "source": [
    "cursor.execute(\"use neuron\")"
   ]
  },
  {
   "cell_type": "code",
   "execution_count": 19,
   "metadata": {},
   "outputs": [],
   "source": [
    "cursor.execute(\"show tables\")"
   ]
  },
  {
   "cell_type": "code",
   "execution_count": 20,
   "metadata": {},
   "outputs": [
    {
     "data": {
      "text/plain": [
       "[('stud',)]"
      ]
     },
     "execution_count": 20,
     "metadata": {},
     "output_type": "execute_result"
    }
   ],
   "source": [
    "cursor.fetchall()"
   ]
  },
  {
   "cell_type": "code",
   "execution_count": 12,
   "metadata": {},
   "outputs": [],
   "source": [
    "cursor.execute('insert into neuron.stud values(423423 , \"sudh\" , \"kumar\" , 2344323 , \"FSDS\")')"
   ]
  },
  {
   "cell_type": "code",
   "execution_count": 13,
   "metadata": {},
   "outputs": [],
   "source": [
    "mydb.commit()"
   ]
  },
  {
   "cell_type": "code",
   "execution_count": 17,
   "metadata": {},
   "outputs": [],
   "source": [
    "cursor.execute('use neuron')"
   ]
  },
  {
   "cell_type": "code",
   "execution_count": 18,
   "metadata": {},
   "outputs": [
    {
     "name": "stdout",
     "output_type": "stream",
     "text": [
      " Volume in drive C is Windows\n",
      " Volume Serial Number is 28FC-998A\n",
      "\n",
      " Directory of C:\\Users\\spand\\DS_neuron\n",
      "\n",
      "09/21/2022  04:36 PM            14,383 (oops) inheritance, encapsulation and polymorphism.ipynb\n",
      "09/23/2022  12:16 PM    <DIR>          .\n",
      "09/23/2022  10:55 AM    <DIR>          ..\n",
      "09/21/2022  11:20 PM    <DIR>          .ipynb_checkpoints\n",
      "09/06/2022  11:50 AM            10,765 1_Str,List Indexing .ipynb\n",
      "09/07/2022  10:12 PM            11,983 2_Tuple,Set and Dict .ipynb\n",
      "09/10/2022  08:45 PM           612,698 3_If, else - For, while .ipynb\n",
      "09/13/2022  04:46 PM            36,634 4_Functions (def).ipynb\n",
      "09/13/2022  07:50 PM            14,392 5_file system.ipynb\n",
      "09/18/2022  12:59 AM             2,819 6_generator and logging.ipynb\n",
      "09/17/2022  10:52 AM             8,645 7_Exception and error handling.ipynb\n",
      "09/15/2022  09:29 AM             1,374 8_modules and packages.ipynb\n",
      "09/17/2022  09:04 PM             7,256 9_Oops.ipynb\n",
      "09/07/2022  07:46 PM             4,185 DS_Assignment no.1.ipynb\n",
      "09/10/2022  01:18 PM             5,966 DS_Assignment no.2.ipynb\n",
      "09/17/2022  08:47 PM             4,750 DS_Assignment no.3.ipynb\n",
      "09/21/2022  04:44 PM             7,055 DS_Assignment no.4.ipynb\n",
      "09/21/2022  05:15 PM             6,146 DS_Assignment no.5.ipynb\n",
      "09/20/2022  04:12 PM                72 DS_Assignment no.6.ipynb\n",
      "09/13/2022  06:52 PM             1,391 google.txt\n",
      "09/22/2022  04:23 PM            16,812 PY interview.ipynb\n",
      "09/23/2022  12:16 PM             5,457 SQL.ipynb\n",
      "09/18/2022  12:11 AM               204 test.log\n",
      "09/14/2022  11:19 AM                 6 test.txt\n",
      "09/13/2022  06:27 PM                63 text.txt\n",
      "              22 File(s)        773,056 bytes\n",
      "               3 Dir(s)  184,504,426,496 bytes free\n"
     ]
    }
   ],
   "source": [
    "ls"
   ]
  },
  {
   "cell_type": "code",
   "execution_count": 102,
   "metadata": {},
   "outputs": [],
   "source": [
    "# cursor.execute('create table neuron.glassdata(col1 INT(10) ,col2 float(10,5),col3 float(10,5) ,col4 float(10,5) , col5 float(10,5),col6 float(10,5) ,clo7 float(10,5) , col8 float(10,5) , col9 float(10,5) , col10 float(10,5) , col11 INT(10)) ')"
   ]
  },
  {
   "cell_type": "code",
   "execution_count": 20,
   "metadata": {},
   "outputs": [
    {
     "data": {
      "text/plain": [
       "'C:\\\\Users\\\\spand\\\\DS_neuron'"
      ]
     },
     "execution_count": 20,
     "metadata": {},
     "output_type": "execute_result"
    }
   ],
   "source": [
    "pwd()"
   ]
  },
  {
   "cell_type": "code",
   "execution_count": 100,
   "metadata": {},
   "outputs": [],
   "source": [
    "import os"
   ]
  },
  {
   "cell_type": "code",
   "execution_count": 24,
   "metadata": {},
   "outputs": [
    {
     "data": {
      "text/plain": [
       "'C:\\\\Users\\\\spand\\\\DS_neuron'"
      ]
     },
     "execution_count": 24,
     "metadata": {},
     "output_type": "execute_result"
    }
   ],
   "source": [
    "os.getcwd()"
   ]
  },
  {
   "cell_type": "code",
   "execution_count": null,
   "metadata": {},
   "outputs": [],
   "source": []
  }
 ],
 "metadata": {
  "kernelspec": {
   "display_name": "Python 3",
   "language": "python",
   "name": "python3"
  },
  "language_info": {
   "codemirror_mode": {
    "name": "ipython",
    "version": 3
   },
   "file_extension": ".py",
   "mimetype": "text/x-python",
   "name": "python",
   "nbconvert_exporter": "python",
   "pygments_lexer": "ipython3",
   "version": "3.8.5"
  }
 },
 "nbformat": 4,
 "nbformat_minor": 4
}
