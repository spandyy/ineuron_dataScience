{
 "cells": [
  {
   "cell_type": "code",
   "execution_count": 1,
   "metadata": {},
   "outputs": [],
   "source": [
    "#class - Blueprint(define structure)\n",
    "#objects - variable of a class(real world entity)\n",
    "#init is a built in function __starts and ends with __\n",
    "#init is a constructor(entity) which helps the class to take data as input(init method)\n",
    "#self is a pointer (can be a name)\n",
    "#in classes the 1st variable is a pointer\n",
    "#our own function or method \n",
    "#functions used inside a class are called methods(guess)\n",
    "#"
   ]
  },
  {
   "cell_type": "code",
   "execution_count": 2,
   "metadata": {},
   "outputs": [],
   "source": [
    "class car:\n",
    "    pass"
   ]
  },
  {
   "cell_type": "code",
   "execution_count": 3,
   "metadata": {},
   "outputs": [],
   "source": [
    "class car:\n",
    "    def __init__(self,brand_name, fuel_type, body_type):\n",
    "        \n",
    "        self.a = brand_name#its the reference to the arguments passed\n",
    "        self.b = fuel_type\n",
    "        self.c = body_type # instance varibale c value is different for every object \n",
    "    def sed(self):\n",
    "#         print(self.brand_name1, self.fuel_type1, self.body_type1)\n",
    "          print('okay')\n",
    "#a,b acd c are class variable "
   ]
  },
  {
   "cell_type": "code",
   "execution_count": 4,
   "metadata": {},
   "outputs": [],
   "source": [
    "gadi = car('bmw','water', 'q7')\n",
    "nexon =car('tata', \"pet\", 'thar')"
   ]
  },
  {
   "cell_type": "code",
   "execution_count": 5,
   "metadata": {},
   "outputs": [
    {
     "name": "stdout",
     "output_type": "stream",
     "text": [
      "okay\n"
     ]
    }
   ],
   "source": [
    "gadi.sed()"
   ]
  },
  {
   "cell_type": "code",
   "execution_count": 6,
   "metadata": {},
   "outputs": [
    {
     "data": {
      "text/plain": [
       "'bmw'"
      ]
     },
     "execution_count": 6,
     "metadata": {},
     "output_type": "execute_result"
    }
   ],
   "source": [
    "gadi.a"
   ]
  },
  {
   "cell_type": "code",
   "execution_count": 7,
   "metadata": {},
   "outputs": [
    {
     "data": {
      "text/plain": [
       "'q7'"
      ]
     },
     "execution_count": 7,
     "metadata": {},
     "output_type": "execute_result"
    }
   ],
   "source": [
    "gadi.c"
   ]
  },
  {
   "cell_type": "code",
   "execution_count": 8,
   "metadata": {},
   "outputs": [
    {
     "name": "stdout",
     "output_type": "stream",
     "text": [
      "okay\n"
     ]
    }
   ],
   "source": [
    "nexon.sed()"
   ]
  },
  {
   "cell_type": "code",
   "execution_count": 9,
   "metadata": {},
   "outputs": [
    {
     "name": "stdout",
     "output_type": "stream",
     "text": [
      "<class 'int'>\n"
     ]
    }
   ],
   "source": [
    "a=10\n",
    "print(type(a))"
   ]
  },
  {
   "cell_type": "code",
   "execution_count": 10,
   "metadata": {},
   "outputs": [],
   "source": [
    "class car:\n",
    "   \n",
    "    def sed(self,b,c):#self is a pointer \n",
    "#         print(self.brand_name1, self.fuel_type1, self.body_type1)\n",
    "          print('okay')\n",
    "#a,b acd c are class variable "
   ]
  },
  {
   "cell_type": "code",
   "execution_count": 11,
   "metadata": {},
   "outputs": [],
   "source": [
    " a=car()"
   ]
  },
  {
   "cell_type": "code",
   "execution_count": 12,
   "metadata": {},
   "outputs": [
    {
     "name": "stdout",
     "output_type": "stream",
     "text": [
      "okay\n"
     ]
    }
   ],
   "source": [
    "a.sed(2,4)"
   ]
  },
  {
   "cell_type": "code",
   "execution_count": 13,
   "metadata": {},
   "outputs": [
    {
     "name": "stdout",
     "output_type": "stream",
     "text": [
      "<class '__main__.car'>\n"
     ]
    }
   ],
   "source": [
    "print(type(a))#a is variable of class (object)"
   ]
  },
  {
   "cell_type": "code",
   "execution_count": 14,
   "metadata": {},
   "outputs": [],
   "source": [
    "class lest:\n",
    "    \n",
    "    def __init__(self,l):\n",
    "        self.d=l\n",
    "    \n",
    "    def pace(self):\n",
    "        if type(self.d)==list:\n",
    "            for i in self.d:\n",
    "                print(i,end=\" \")\n",
    "                \n",
    "    def rev(self):\n",
    "        if type(self.d)==list:\n",
    "            return self.d[::-1]"
   ]
  },
  {
   "cell_type": "code",
   "execution_count": 15,
   "metadata": {},
   "outputs": [
    {
     "name": "stdout",
     "output_type": "stream",
     "text": [
      "2 3 4 5 56 7 78 2 "
     ]
    },
    {
     "data": {
      "text/plain": [
       "[2, 78, 7, 56, 5, 4, 3, 2]"
      ]
     },
     "execution_count": 15,
     "metadata": {},
     "output_type": "execute_result"
    }
   ],
   "source": [
    "z=lest([2,3,4,5,56,7,78,2])\n",
    "\n",
    "z.pace()\n",
    "z.rev()"
   ]
  },
  {
   "cell_type": "code",
   "execution_count": 16,
   "metadata": {},
   "outputs": [],
   "source": [
    "class ass:\n",
    "    \n",
    "    def __init__(self,d):\n",
    "        self.a=d\n",
    "\n",
    "    \n",
    "    def key(self):\n",
    "            if self.notdict():\n",
    "                return self.a.keys()\n",
    "            \n",
    "    def value(self):\n",
    "            if self.notdict():\n",
    "                return self.a.values()\n",
    "            \n",
    "    def notdict(self):\n",
    "        if type(self.a)!=dict:\n",
    "            raise Exception(self.a, 'not a dict')\n",
    "        return 1   \n",
    "    \n",
    "    def inpt(self):\n",
    "        self.a=eval(input())\n",
    "        print(self.a,type(self.a))\n",
    "        print(self.key())\n",
    "        print(self.value())\n",
    "    def inst(self,k,v):\n",
    "        self.a[k]=v\n",
    "        "
   ]
  },
  {
   "cell_type": "code",
   "execution_count": 17,
   "metadata": {},
   "outputs": [],
   "source": [
    "z=ass({'_2': 'df', 21: 'sed', 11: 'sed'})\n",
    "# z.key()\n",
    "# z.value()\n",
    "# z.inpt()\n",
    "z.inst(\"hbw\",12)"
   ]
  },
  {
   "cell_type": "code",
   "execution_count": 18,
   "metadata": {},
   "outputs": [],
   "source": [
    "l={12,3,4,5}"
   ]
  },
  {
   "cell_type": "code",
   "execution_count": 19,
   "metadata": {},
   "outputs": [
    {
     "data": {
      "text/plain": [
       "5"
      ]
     },
     "execution_count": 19,
     "metadata": {},
     "output_type": "execute_result"
    }
   ],
   "source": [
    "l.pop()"
   ]
  },
  {
   "cell_type": "code",
   "execution_count": 20,
   "metadata": {},
   "outputs": [
    {
     "name": "stdout",
     "output_type": "stream",
     "text": [
      "{3, 12, 4}\n"
     ]
    }
   ],
   "source": [
    "print(l)"
   ]
  },
  {
   "cell_type": "code",
   "execution_count": 21,
   "metadata": {},
   "outputs": [],
   "source": [
    "l=[12,4,4]\n",
    "l.append(2)"
   ]
  },
  {
   "cell_type": "code",
   "execution_count": 22,
   "metadata": {},
   "outputs": [
    {
     "data": {
      "text/plain": [
       "[12, 4, 4, 2]"
      ]
     },
     "execution_count": 22,
     "metadata": {},
     "output_type": "execute_result"
    }
   ],
   "source": [
    "l"
   ]
  },
  {
   "cell_type": "code",
   "execution_count": 23,
   "metadata": {},
   "outputs": [
    {
     "ename": "AttributeError",
     "evalue": "'str' object has no attribute 'append'",
     "output_type": "error",
     "traceback": [
      "\u001b[1;31m---------------------------------------------------------------------------\u001b[0m",
      "\u001b[1;31mAttributeError\u001b[0m                            Traceback (most recent call last)",
      "\u001b[1;32m<ipython-input-23-292c4e16327d>\u001b[0m in \u001b[0;36m<module>\u001b[1;34m\u001b[0m\n\u001b[0;32m      1\u001b[0m \u001b[0ms\u001b[0m\u001b[1;33m=\u001b[0m\u001b[1;34m\"sklnd\"\u001b[0m\u001b[1;33m\u001b[0m\u001b[1;33m\u001b[0m\u001b[0m\n\u001b[1;32m----> 2\u001b[1;33m \u001b[0ms\u001b[0m\u001b[1;33m.\u001b[0m\u001b[0mappend\u001b[0m\u001b[1;33m(\u001b[0m\u001b[1;34m\"a\"\u001b[0m\u001b[1;33m)\u001b[0m\u001b[1;33m\u001b[0m\u001b[1;33m\u001b[0m\u001b[0m\n\u001b[0m",
      "\u001b[1;31mAttributeError\u001b[0m: 'str' object has no attribute 'append'"
     ]
    }
   ],
   "source": [
    "s=\"sklnd\"\n",
    "s.append(\"a\")"
   ]
  },
  {
   "cell_type": "code",
   "execution_count": null,
   "metadata": {},
   "outputs": [],
   "source": [
    "#how to create object \n",
    "# obj = classname()"
   ]
  },
  {
   "cell_type": "code",
   "execution_count": null,
   "metadata": {},
   "outputs": [],
   "source": [
    "s = str()\n",
    "s"
   ]
  },
  {
   "cell_type": "code",
   "execution_count": 1,
   "metadata": {},
   "outputs": [
    {
     "name": "stdout",
     "output_type": "stream",
     "text": [
      "fist mai execute honga\n"
     ]
    }
   ],
   "source": [
    "class Atm:\n",
    "    \n",
    "    #constructor(special function)>>superpower\n",
    "    def __init__(self):\n",
    "        self.pin=\" \"\n",
    "        self.balance=0\n",
    "        print(\"fist mai execute honga\")\n",
    "#         self.menu()\n",
    "        \n",
    "    def menu(self):\n",
    "        user_input=input(\"\"\"\n",
    "        Hi how can i help you?\n",
    "        >press 1 to create pin\n",
    "        >press 2 to change pin\n",
    "        >press 3 to check balance\n",
    "        >press 4 to withdraw\n",
    "        >anything else to exit\n",
    "        \"\"\")\n",
    "\n",
    "        if user_input==\"1\":\n",
    "            self.create_pin()\n",
    "\n",
    "        elif user_input==\"2\":\n",
    "            self.change_pin()\n",
    "\n",
    "        elif user_input==\"3\":\n",
    "            self.check_balance()\n",
    "\n",
    "        elif user_input==\"4\":\n",
    "            self.withdraw()\n",
    "\n",
    "        else:\n",
    "            exit()\n",
    "\n",
    "    def create_pin(self):\n",
    "        user_pin=input(\"Enter Your Pin:\")\n",
    "        self.pin=user_pin  \n",
    "        \n",
    "        user_balance=input(\"Enter the balance: \")\n",
    "        self.balance=user_balance\n",
    "        print(\"Pin created Successfully\")\n",
    "        self.menu()\n",
    "\n",
    "    def change_pin(self):\n",
    "        old_pin=input(\"Enter Existing pin: \")\n",
    "        if old_pin==self.pin:\n",
    "            # let him change pin\n",
    "            new_pin=input(\"Enter new pin: \")\n",
    "            self.pin=new_pin\n",
    "            print(\"Pin changed successfully\")\n",
    "        else:\n",
    "            print(\"wrong old pin\")\n",
    "            self.menu()\n",
    "\n",
    "    def check_balance(self):\n",
    "        user_pin=input(\"Enter your pin: \")\n",
    "        if user_pin==self.pin:\n",
    "            print(\"Your Balance is: \", self.balance)\n",
    "\n",
    "        else:\n",
    "            print(\"Pin incorrect will not show balance\")\n",
    "            self.menu()\n",
    "\n",
    "    def withdraw(self):\n",
    "        user_pin=input(\"Enter your pin: \")\n",
    "        if user_pin==self.pin:\n",
    "            amount=int(input(\"amount you want to withdraw: \"))\n",
    "            if amount<=self.balance:\n",
    "                print(\"amount withdrawn: \", amount)\n",
    "                print(\"Balance left: \", self.balance-amount)\n",
    "            else:\n",
    "                print(\"Insufficient balance\")\n",
    "        \n",
    "        else: \n",
    "            print(\"wrong pin \")\n",
    "            self.menu()\n",
    "obj=Atm()\n",
    "    "
   ]
  },
  {
   "cell_type": "code",
   "execution_count": 2,
   "metadata": {},
   "outputs": [
    {
     "name": "stdout",
     "output_type": "stream",
     "text": [
      "Enter your pin: \n",
      "Pin incorrect will not show balance\n",
      "\n",
      "        Hi how can i help you?\n",
      "        >press 1 to create pin\n",
      "        >press 2 to change pin\n",
      "        >press 3 to check balance\n",
      "        >press 4 to withdraw\n",
      "        >anything else to exit\n",
      "        a\n"
     ]
    }
   ],
   "source": [
    "obj.check_balance()"
   ]
  },
  {
   "cell_type": "code",
   "execution_count": null,
   "metadata": {},
   "outputs": [],
   "source": [
    "obj.pin"
   ]
  },
  {
   "cell_type": "code",
   "execution_count": null,
   "metadata": {},
   "outputs": [],
   "source": [
    "obj.balance"
   ]
  },
  {
   "cell_type": "code",
   "execution_count": null,
   "metadata": {},
   "outputs": [],
   "source": [
    "print(type(obj))"
   ]
  },
  {
   "cell_type": "code",
   "execution_count": 1,
   "metadata": {},
   "outputs": [],
   "source": [
    "class point:\n",
    "    \n",
    "    def __init__(self,x,y):\n",
    "        self.x_cod=x\n",
    "        self.y_cod=y\n",
    "         "
   ]
  },
  {
   "cell_type": "code",
   "execution_count": 2,
   "metadata": {},
   "outputs": [
    {
     "name": "stdout",
     "output_type": "stream",
     "text": [
      "<__main__.point object at 0x000002C191EBF670>\n"
     ]
    }
   ],
   "source": [
    "p1= point(0,0)\n",
    "#<x,y>\n",
    "print(p1)"
   ]
  },
  {
   "cell_type": "code",
   "execution_count": null,
   "metadata": {},
   "outputs": [],
   "source": []
  }
 ],
 "metadata": {
  "kernelspec": {
   "display_name": "Python 3",
   "language": "python",
   "name": "python3"
  },
  "language_info": {
   "codemirror_mode": {
    "name": "ipython",
    "version": 3
   },
   "file_extension": ".py",
   "mimetype": "text/x-python",
   "name": "python",
   "nbconvert_exporter": "python",
   "pygments_lexer": "ipython3",
   "version": "3.8.5"
  }
 },
 "nbformat": 4,
 "nbformat_minor": 4
}
