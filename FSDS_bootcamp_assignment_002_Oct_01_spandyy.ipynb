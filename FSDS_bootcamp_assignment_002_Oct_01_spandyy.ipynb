{
 "cells": [
  {
   "cell_type": "markdown",
   "metadata": {
    "id": "cyOfbWCdOjEr"
   },
   "source": [
    "# ASSIGNMENTS - Compulsory\n",
    "## Send it before 0000 hrs IST or 12 AM Wednesday\n",
    "\n",
    "## NOTE: Evaluation will be done before next class.\n",
    "\n",
    "## HOW TO SUBMIT: -\n",
    "Download this notebook, Solve it and upload in the google form given in the mail."
   ]
  },
  {
   "cell_type": "markdown",
   "metadata": {
    "id": "GT4IytkJMNa-"
   },
   "source": [
    "\n",
    "1. What is indentation error? Why indentation is important? Give one simple example?\n",
    "\n",
    "2. Correct the following code and write the comment where you made the correction?\n",
    "\n",
    "  ```python\n",
    "  class_started = bool(input(\"Hey friend, is class started?: [0-False/1-True]\"))\n",
    "\n",
    "  if class_started:\n",
    "      print(\"Since class started...\")\n",
    "      print(\"Lets concentrate\")\n",
    "  else:\n",
    "      print(\"Since class is not started...\")\n",
    "      print(\"let's revise\")    \n",
    "  ```\n",
    "\n",
    "  **HINT:** Refer your data type conversion class\n",
    "\n",
    "3. Use if else condition to verify that dataype of `input()` method in python is always string.\n",
    "\n",
    "4. Take 3 variables and assign integer values to them. Find the largest variable, by only using the if and else conditions.\n",
    "\n",
    "\n",
    "5. What would be the solution?\n",
    "    1. True\n",
    "    2. False\n",
    "\n",
    "    ```python\n",
    "    a = 6\n",
    "    b = 10\n",
    "    print( not ( not a == 10 or not b == 10) )\n",
    "    ```\n",
    "    \n",
    "6. Find the answer as well as find out the reason behind the result? -\n",
    "    - case 1:\n",
    "        ```python\n",
    "        A = 5.0\n",
    "        B = 10/2\n",
    "        print(A is B)\n",
    "        ```\n",
    "    - case 2:\n",
    "        ```python\n",
    "        A = 5.0\n",
    "        B = int(10/2)\n",
    "        print(A is B)\n",
    "        ```\n",
    "    - case 3:\n",
    "        ```python\n",
    "        A = 5.0\n",
    "        B = float(10/2)\n",
    "        print(A is B)\n",
    "        ```"
   ]
  },
  {
   "cell_type": "markdown",
   "metadata": {
    "id": "a_4kbBVWNY-4"
   },
   "source": [
    "### Try to understand the following examples and answer the question based on it - \n",
    "    \n",
    "**Arithmatic Operators**\n",
    "\n",
    "|Operation|Meaning|\n",
    "|:-:|:-:|\n",
    "| **+** |addition|\n",
    "| **-** |subtraction|\n",
    "| **\\*** |multiplication|\n",
    "| **/** |true division|\n",
    "| **//** |integer division|\n",
    "| **%** |the modulo operator|\n",
    "\n",
    "\n",
    "Here `+`, `-`, `*`, `/` are regular arithmatic operators. Lets look at the `//` and `%` operators\n",
    "\n",
    "Usecase or examples - \n",
    "    \n",
    "```python\n",
    "var_a = 5\n",
    "var_b = 25\n",
    "integer_division = var_b // var_a\n",
    "print(f\"integer division: {var_b}/{var_a}={integer_division}\")\n",
    "```\n",
    "\n",
    "OUTPUT: integer division: 25/5=5\n",
    "\n",
    "```python\n",
    "var_a = 3\n",
    "var_b = 25\n",
    "integer_division = var_b // var_a\n",
    "print(f\"integer division: {var_b}/{var_a}={integer_division}\")\n",
    "```\n",
    "\n",
    "OUTPUT: integer division: 25/3=8\n",
    "\n",
    "```python\n",
    "var_a = 5\n",
    "var_b = 25\n",
    "remainder = var_b % var_a\n",
    "print(f\"remainder: {var_b}/{var_a} is {remainder}\")\n",
    "```\n",
    "\n",
    "OUTPUT: remainder: 25/5 is 0\n",
    "\n",
    "```python\n",
    "var_a = 3\n",
    "var_b = 25\n",
    "remainder = var_b % var_a\n",
    "print(f\"remainder: {var_b}/{var_a} is {remainder}\")\n",
    "```\n",
    "\n",
    "OUTPUT: remainder: 25/3 is 1\n",
    "\n"
   ]
  },
  {
   "cell_type": "markdown",
   "metadata": {
    "id": "v288WPlMNxmM"
   },
   "source": [
    "### Answer below questions on the above theory - \n",
    "\n",
    "7. Write a program that asks the user to enter a number. You should print out a message to the user, either “That number is divisible by either 3 or 5”, or “That number is not divisible by either 3 or 5”. Be sure to consider the data type of the input you are taking in from the user. Use a single if/else block to solve this problem.\n",
    "\n",
    "8. Take user input for length and width. Then calculate the area of rectangle. Also print as per length and width whether its a square of rectangle.\n",
    "\n",
    "9. Take two variable radius_1 and radius_2 and calculate the area of circle_1 and circle_2. Also print which circle has large area. If area is equal then print area is equal.\n",
    "\n",
    "10. Check whether a year is leap year or not. Use nested if...else to solve this problem. A leap year is exactly divisible by 4 except for century years (years ending with 00). The century year is a leap year only if it is perfectly divisible by 400."
   ]
  },
  {
   "cell_type": "code",
   "execution_count": 1,
   "metadata": {},
   "outputs": [
    {
     "ename": "IndentationError",
     "evalue": "expected an indented block (<ipython-input-1-b1f4d241efd0>, line 6)",
     "output_type": "error",
     "traceback": [
      "\u001b[1;36m  File \u001b[1;32m\"<ipython-input-1-b1f4d241efd0>\"\u001b[1;36m, line \u001b[1;32m6\u001b[0m\n\u001b[1;33m    print(\"oky\")# absence of the tab space\u001b[0m\n\u001b[1;37m    ^\u001b[0m\n\u001b[1;31mIndentationError\u001b[0m\u001b[1;31m:\u001b[0m expected an indented block\n"
     ]
    }
   ],
   "source": [
    "#Indentation Error occurs when the tabs and spaces in your code are not placed properly \n",
    "#Indentaion gives proper structure to the code and if the indentation is not there the interpreter throws error\n",
    "a=True\n",
    "\n",
    "if not a:\n",
    "print(\"oky\")# absence of the tab space \n",
    "\n",
    "else:\n",
    "    print(\"not oky\")"
   ]
  },
  {
   "cell_type": "code",
   "execution_count": null,
   "metadata": {
    "id": "XumyqFp6MHnv"
   },
   "outputs": [],
   "source": [
    "class_started = bool(int(input(\"Hey friend, is class started?: [0-False/1-True] :\"))) \n",
    "#the default input type is str so it needs converted to int then it will take input zero the the bool becomes False\n",
    " \n",
    "if class_started:\n",
    "   print(\"Since class started...\")\n",
    "   print(\"Lets concentrate\")\n",
    "else:\n",
    "   print(\"Since class is not started...\")\n",
    "   print(\"let's revise\")"
   ]
  },
  {
   "cell_type": "code",
   "execution_count": 4,
   "metadata": {},
   "outputs": [
    {
     "name": "stdout",
     "output_type": "stream",
     "text": [
      "enter a value: 11\n",
      "11 has data type string\n"
     ]
    }
   ],
   "source": [
    "# 3rd. Use if else condition to verify that dataype of input() method in python is always string.\n",
    "\n",
    "val = input(\"enter a value: \")\n",
    "\n",
    "if type(val)==str:\n",
    "    print(f\"{val} has data type string\")\n",
    "elif type(val)==int:\n",
    "    print(f\"{val} has data type int\")\n",
    "else:\n",
    "    print(f\"{val} has data type float\")\n",
    "    \n",
    "    "
   ]
  },
  {
   "cell_type": "code",
   "execution_count": 5,
   "metadata": {},
   "outputs": [
    {
     "name": "stdout",
     "output_type": "stream",
     "text": [
      "Enter your 1st no. : 12\n",
      "Enter your 2nd no. : 13\n",
      "Enter your 3rd no. : 2\n",
      "13 is the largest variable\n"
     ]
    }
   ],
   "source": [
    "# 4. Take 3 variables and assign integer values to them. Find the largest variable, by only using the if and else conditions.\n",
    "v1=int(input(\"Enter your 1st no. : \"))\n",
    "v2=int(input(\"Enter your 2nd no. : \"))\n",
    "v3=int(input(\"Enter your 3rd no. : \"))\n",
    "\n",
    "if v1>v2:\n",
    "    if v1>v3:\n",
    "        print(f\"{v1} is the largest variable\")\n",
    "    else:\n",
    "        print(f\"{v3} is the largest variable\")\n",
    "elif v2>v3:\n",
    "    if v2>v1:\n",
    "        print(f\"{v2} is the largest variable\")\n",
    "    else:\n",
    "        print(f\"{v1} is the largest variable\")\n",
    "       \n",
    "    \n",
    "    "
   ]
  },
  {
   "cell_type": "code",
   "execution_count": 6,
   "metadata": {},
   "outputs": [
    {
     "name": "stdout",
     "output_type": "stream",
     "text": [
      "False\n"
     ]
    }
   ],
   "source": [
    "a = 6\n",
    "b = 10\n",
    "print( not ( not a == 10 or not b == 10) )"
   ]
  },
  {
   "cell_type": "code",
   "execution_count": 7,
   "metadata": {},
   "outputs": [
    {
     "name": "stdout",
     "output_type": "stream",
     "text": [
      "False\n"
     ]
    }
   ],
   "source": [
    "# case 1:\n",
    "A = 5.0\n",
    "B = 10/2 # it returns float value 5.00000\n",
    "print(A is B)\n"
   ]
  },
  {
   "cell_type": "code",
   "execution_count": 8,
   "metadata": {},
   "outputs": [
    {
     "name": "stdout",
     "output_type": "stream",
     "text": [
      "False\n"
     ]
    }
   ],
   "source": [
    "# case 2:\n",
    "A = 5.0\n",
    "B = int(10/2) # it returns int value 5\n",
    "print(A is B)"
   ]
  },
  {
   "cell_type": "code",
   "execution_count": 14,
   "metadata": {},
   "outputs": [
    {
     "name": "stdout",
     "output_type": "stream",
     "text": [
      "False\n"
     ]
    }
   ],
   "source": [
    "# case 3:\n",
    "A = 5.0\n",
    "B = float(10/2) # float value 5.000000\n",
    "print(A is B)\n",
    "\n",
    "#different memory loaction alloted to A and B"
   ]
  },
  {
   "cell_type": "code",
   "execution_count": 16,
   "metadata": {},
   "outputs": [
    {
     "name": "stdout",
     "output_type": "stream",
     "text": [
      "Enter your 1st no. : 13\n",
      "number is not divisible by either 3 or 5\n"
     ]
    }
   ],
   "source": [
    "# 7. Write a program that asks the user to enter a number. You should print out a message to the user, \n",
    "# either “That number is divisible by either 3 or 5”, or “That number is not divisible by either 3 or 5”. \n",
    "# Be sure to consider the data type of the input you are taking in from the user. Use a single if/else block to solve.\n",
    "\n",
    "v1=int(input(\"Enter your 1st no. : \"))\n",
    "\n",
    "if v1%3==0 or v1%5==0:\n",
    "    print(\"number is divisible by either 3 or 5\")\n",
    "    \n",
    "else:\n",
    "    print(\"number is not divisible by either 3 or 5\")"
   ]
  },
  {
   "cell_type": "code",
   "execution_count": 18,
   "metadata": {},
   "outputs": [
    {
     "name": "stdout",
     "output_type": "stream",
     "text": [
      "Enter your 1st no. : 12\n",
      "Enter your 2nd no. : 13\n",
      "The area of rectangle is 156 sq units\n"
     ]
    }
   ],
   "source": [
    "# 8. Take user input for length and width. Then calculate the area of rectangle. \n",
    "# Also print as per length and width whether its a square of rectangle.\n",
    "\n",
    "v1=int(input(\"Enter your 1st no. : \"))\n",
    "v2=int(input(\"Enter your 2nd no. : \"))\n",
    "\n",
    "area = v1*v2\n",
    "\n",
    "if v1!=v2:\n",
    "    print(f\"The area of rectangle is {area} sq units\")\n",
    "    \n",
    "else:\n",
    "    print(\"Its a square\")\n",
    "\n",
    "\n"
   ]
  },
  {
   "cell_type": "code",
   "execution_count": 22,
   "metadata": {},
   "outputs": [
    {
     "name": "stdout",
     "output_type": "stream",
     "text": [
      "Enter your 1st no. : 4\n",
      "Enter your 2nd no. : 5\n",
      "CIrcle 2 has larger area of  78.53981633974483\n"
     ]
    }
   ],
   "source": [
    "# 9. Take two variable radius_1 and radius_2 and calculate the area of circle_1 and\n",
    "# circle_2. Also print which circle has large area. If area is equal then print area is equal.\n",
    "\n",
    "import math\n",
    "\n",
    "v1=int(input(\"Enter your 1st no. : \"))\n",
    "v2=int(input(\"Enter your 2nd no. : \"))\n",
    "\n",
    "if v1 == v2:\n",
    "    print(\"Area is equal\")\n",
    "    print(\"The area of the circle is \", math.pi*v1*v1)\n",
    "    \n",
    "elif v1 > v2 :\n",
    "    print(\"Circle 1 has larger area of \", math.pi*v1*v1)\n",
    "    \n",
    "else :\n",
    "    print(\"CIrcle 2 has larger area of \", math.pi*v2*v2)"
   ]
  },
  {
   "cell_type": "code",
   "execution_count": 27,
   "metadata": {},
   "outputs": [
    {
     "name": "stdout",
     "output_type": "stream",
     "text": [
      "Enter the year: 2004\n",
      "leap year\n"
     ]
    }
   ],
   "source": [
    "# 10. Check whether a year is leap year or not. Use nested if...else to solve this problem. \n",
    "# A leap year is exactly divisible by 4 except for century years (years ending with 00). \n",
    "# The century year is a leap year only if it is perfectly divisible by 400.\n",
    "\n",
    "year=int(input(\"Enter the year: \"))\n",
    "if year % 400==0:\n",
    "    print(\"leap year\")\n",
    "    \n",
    "elif year%4==0 and year%100!=0:\n",
    "    print(\"leap year\")\n",
    "        \n",
    "else:\n",
    "    print(\"Not a leap year\")"
   ]
  }
 ],
 "metadata": {
  "colab": {
   "collapsed_sections": [],
   "provenance": []
  },
  "kernelspec": {
   "display_name": "Python 3",
   "language": "python",
   "name": "python3"
  },
  "language_info": {
   "codemirror_mode": {
    "name": "ipython",
    "version": 3
   },
   "file_extension": ".py",
   "mimetype": "text/x-python",
   "name": "python",
   "nbconvert_exporter": "python",
   "pygments_lexer": "ipython3",
   "version": "3.8.5"
  }
 },
 "nbformat": 4,
 "nbformat_minor": 1
}
